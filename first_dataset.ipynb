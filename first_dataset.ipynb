{
 "cells": [
  {
   "cell_type": "markdown",
   "metadata": {},
   "source": [
    "# Primeiro dataset\n",
    "\n",
    "Dataset escolhido: [https://archive.ics.uci.edu/dataset/1/abalone](https://archive.ics.uci.edu/dataset/1/abalone)"
   ]
  },
  {
   "cell_type": "markdown",
   "metadata": {},
   "source": [
    "## Extraindo os dados"
   ]
  },
  {
   "cell_type": "code",
   "execution_count": 39,
   "metadata": {},
   "outputs": [],
   "source": [
    "import pandas as pd\n",
    "\n",
    "path_to_data = 'data/abalone.data'\n",
    "\n",
    "# Carregar base de dados\n",
    "# DataFrame\n",
    "dataset = pd.read_csv(path_to_data, header=None)"
   ]
  },
  {
   "cell_type": "markdown",
   "metadata": {},
   "source": [
    "## Transformando os dados"
   ]
  },
  {
   "cell_type": "code",
   "execution_count": 40,
   "metadata": {},
   "outputs": [],
   "source": [
    "from sklearn.compose import make_column_transformer\n",
    "from sklearn.preprocessing import OneHotEncoder\n",
    "\n",
    "# Obter a coluna 0 e aplicar o OneHotEncoder (coluna 'Sexo')\n",
    "SEX_COLUMN = 0\n",
    "column_transformer = make_column_transformer((OneHotEncoder(), [SEX_COLUMN]), remainder='passthrough')\n",
    "\n",
    "dataset = column_transformer.fit_transform(dataset)\n",
    "\n",
    "dataset = pd.DataFrame(data=dataset)"
   ]
  },
  {
   "cell_type": "markdown",
   "metadata": {},
   "source": [
    "## Separando os dados\n",
    "Seperação dos dados em features (X) e target (y)"
   ]
  },
  {
   "cell_type": "code",
   "execution_count": 41,
   "metadata": {},
   "outputs": [],
   "source": [
    "columns = len(dataset.columns)\n",
    "\n",
    "y = dataset[columns-1] # extrai o target (última coluna)\n",
    "X = dataset.loc[:,0:columns-2]"
   ]
  },
  {
   "cell_type": "markdown",
   "metadata": {},
   "source": [
    "## Normalizando os dados\n",
    "Deixando os valores de todas as colunas entre 0 e 1"
   ]
  },
  {
   "cell_type": "code",
   "execution_count": 42,
   "metadata": {},
   "outputs": [],
   "source": [
    "from sklearn.preprocessing import MinMaxScaler\n",
    "\n",
    "x_values = X.values\n",
    "min_max_scaler = MinMaxScaler()\n",
    "x_scaled = min_max_scaler.fit_transform(x_values)\n",
    "X = pd.DataFrame(x_scaled)"
   ]
  },
  {
   "cell_type": "markdown",
   "metadata": {},
   "source": [
    "## Criando os folds\n",
    "Serão 10 folds para o k-fold cross validation"
   ]
  },
  {
   "cell_type": "code",
   "execution_count": 43,
   "metadata": {},
   "outputs": [],
   "source": [
    "import numpy as np\n",
    "\n",
    "# Transforma para array NumPy\n",
    "X = np.array(X)\n",
    "y = np.array(y)\n",
    "\n",
    "# Define o número de folds\n",
    "N_FOLDS = 10"
   ]
  },
  {
   "cell_type": "markdown",
   "metadata": {},
   "source": [
    "## Obtendo os scores dos modelos"
   ]
  },
  {
   "cell_type": "markdown",
   "metadata": {},
   "source": [
    "### Árvore de decisão"
   ]
  },
  {
   "cell_type": "code",
   "execution_count": null,
   "metadata": {},
   "outputs": [
    {
     "name": "stderr",
     "output_type": "stream",
     "text": [
      "/home/yago/Development/topicos_especiais/mlalgos/.venv/lib/python3.12/site-packages/sklearn/model_selection/_split.py:805: UserWarning: The least populated class in y has only 1 members, which is less than n_splits=10.\n",
      "  warnings.warn(\n"
     ]
    },
    {
     "name": "stdout",
     "output_type": "stream",
     "text": [
      "[0.12679426 0.17703349 0.18899522 0.24641148 0.19138756 0.19617225\n",
      " 0.21052632 0.18944844 0.19184652 0.23261391]\n",
      "Média de acerto da ávore de decisão com entropy: 20%\n"
     ]
    }
   ],
   "source": [
    "from sklearn.tree import DecisionTreeClassifier\n",
    "from sklearn.model_selection import cross_val_score\n",
    "\n",
    "entropy_tree_model = DecisionTreeClassifier(criterion=\"entropy\")\n",
    "# TODO - obter também o erro médio\n",
    "# TODO - analisar o warning de classe com apenas 1 membro\n",
    "entropy_tree_scores = cross_val_score(entropy_tree_model, X, y, cv=N_FOLDS)\n",
    "\n",
    "print(entropy_tree_scores)\n",
    "\n",
    "print(f\"Média de acerto da ávore de decisão com entropy: {round(np.mean(entropy_tree_scores) * 100)}%\")"
   ]
  }
 ],
 "metadata": {
  "kernelspec": {
   "display_name": ".venv",
   "language": "python",
   "name": "python3"
  },
  "language_info": {
   "codemirror_mode": {
    "name": "ipython",
    "version": 3
   },
   "file_extension": ".py",
   "mimetype": "text/x-python",
   "name": "python",
   "nbconvert_exporter": "python",
   "pygments_lexer": "ipython3",
   "version": "3.12.8"
  }
 },
 "nbformat": 4,
 "nbformat_minor": 2
}
