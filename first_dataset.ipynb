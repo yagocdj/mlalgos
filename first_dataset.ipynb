{
 "cells": [
  {
   "cell_type": "markdown",
   "metadata": {},
   "source": [
    "# Primeiro dataset\n",
    "\n",
    "Dataset escolhido: [https://archive.ics.uci.edu/dataset/602/dry+bean+dataset](https://archive.ics.uci.edu/dataset/602/dry+bean+dataset)"
   ]
  },
  {
   "cell_type": "markdown",
   "metadata": {},
   "source": [
    "## Extraindo os dados"
   ]
  },
  {
   "cell_type": "code",
   "execution_count": 64,
   "metadata": {},
   "outputs": [],
   "source": [
    "import pandas as pd\n",
    "\n",
    "path_to_data = 'data/Dry_Bean_Dataset.xlsx'\n",
    "\n",
    "# Carregar base de dados\n",
    "# DataFrame\n",
    "HEADER_ROW = 0\n",
    "dataset = pd.read_excel(path_to_data, sheet_name=\"Dry_Beans_Dataset\",header=HEADER_ROW)\n",
    "\n",
    "# DEBUG - Verificar se a base de dados foi carregada corretamente\n",
    "# dataset.head(20)\n",
    "# dataset.shape"
   ]
  },
  {
   "cell_type": "markdown",
   "metadata": {},
   "source": [
    "## Transformando os dados"
   ]
  },
  {
   "cell_type": "code",
   "execution_count": 65,
   "metadata": {},
   "outputs": [],
   "source": [
    "# Transformando as labels em valores numéricos\n",
    "dataset['Class'] = dataset['Class'].astype('category').cat.codes"
   ]
  },
  {
   "cell_type": "markdown",
   "metadata": {},
   "source": [
    "## Separando os dados\n",
    "Seperação dos dados em features (X) e target (y)"
   ]
  },
  {
   "cell_type": "code",
   "execution_count": 66,
   "metadata": {},
   "outputs": [],
   "source": [
    "NUM_OF_COLUMNS = len(dataset.columns)\n",
    "\n",
    "y = dataset.iloc[:,-1] # extrai o target (última coluna)\n",
    "X = dataset.iloc[:,0:NUM_OF_COLUMNS-1] # extrai as features (todas as colunas menos a última)"
   ]
  },
  {
   "cell_type": "markdown",
   "metadata": {},
   "source": [
    "## Normalizando os dados\n",
    "Deixando os valores de todas as colunas entre 0 e 1"
   ]
  },
  {
   "cell_type": "code",
   "execution_count": 67,
   "metadata": {},
   "outputs": [],
   "source": [
    "from sklearn.preprocessing import MinMaxScaler\n",
    "\n",
    "x_values = X.values\n",
    "min_max_scaler = MinMaxScaler()\n",
    "x_scaled = min_max_scaler.fit_transform(x_values)\n",
    "X = pd.DataFrame(x_scaled)"
   ]
  },
  {
   "cell_type": "markdown",
   "metadata": {},
   "source": [
    "## Criando os folds\n",
    "Serão 10 folds para o k-fold cross validation"
   ]
  },
  {
   "cell_type": "code",
   "execution_count": 72,
   "metadata": {},
   "outputs": [],
   "source": [
    "import numpy as np\n",
    "\n",
    "# Transforma para array NumPy\n",
    "X = np.array(X)\n",
    "y = np.array(y)\n",
    "\n",
    "# Define o número de folds\n",
    "N_FOLDS = 10"
   ]
  },
  {
   "cell_type": "markdown",
   "metadata": {},
   "source": [
    "## Obtendo os scores dos modelos"
   ]
  },
  {
   "cell_type": "markdown",
   "metadata": {},
   "source": [
    "### Árvore de decisão"
   ]
  },
  {
   "cell_type": "code",
   "execution_count": 74,
   "metadata": {},
   "outputs": [
    {
     "name": "stdout",
     "output_type": "stream",
     "text": [
      "[0.49706314 0.73695812 0.76487877 0.90301249 0.92946363 0.91991183\n",
      " 0.71418075 0.68919912 0.69213813 0.42689199]\n",
      "Média de acerto da ávore de decisão com entropy: 73%\n"
     ]
    }
   ],
   "source": [
    "from sklearn.tree import DecisionTreeClassifier\n",
    "from sklearn.model_selection import cross_val_score\n",
    "\n",
    "entropy_tree_model = DecisionTreeClassifier(criterion=\"entropy\")\n",
    "# TODO - obter também o erro médio\n",
    "entropy_tree_scores = cross_val_score(entropy_tree_model, X, y, cv=N_FOLDS)\n",
    "\n",
    "print(entropy_tree_scores)\n",
    "\n",
    "print(f\"Média de acerto da ávore de decisão com entropy: {round(np.mean(entropy_tree_scores) * 100)}%\")"
   ]
  }
 ],
 "metadata": {
  "kernelspec": {
   "display_name": ".venv",
   "language": "python",
   "name": "python3"
  },
  "language_info": {
   "codemirror_mode": {
    "name": "ipython",
    "version": 3
   },
   "file_extension": ".py",
   "mimetype": "text/x-python",
   "name": "python",
   "nbconvert_exporter": "python",
   "pygments_lexer": "ipython3",
   "version": "3.12.8"
  }
 },
 "nbformat": 4,
 "nbformat_minor": 2
}
