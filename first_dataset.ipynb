{
 "cells": [
  {
   "cell_type": "markdown",
   "metadata": {},
   "source": [
    "# Primeiro dataset\n",
    "\n",
    "Dataset escolhido: [https://archive.ics.uci.edu/dataset/602/dry+bean+dataset](https://archive.ics.uci.edu/dataset/602/dry+bean+dataset)"
   ]
  },
  {
   "cell_type": "markdown",
   "metadata": {},
   "source": [
    "## Extraindo os dados"
   ]
  },
  {
   "cell_type": "code",
   "execution_count": 28,
   "metadata": {},
   "outputs": [],
   "source": [
    "import pandas as pd\n",
    "\n",
    "path_to_data = 'data/Dry_Bean_Dataset.xlsx'\n",
    "\n",
    "# Carregar base de dados\n",
    "# DataFrame\n",
    "HEADER_ROW = 0\n",
    "dataset = pd.read_excel(path_to_data, sheet_name=\"Dry_Beans_Dataset\",header=HEADER_ROW)\n",
    "\n",
    "# DEBUG - Verificar se a base de dados foi carregada corretamente\n",
    "# dataset.head(20)\n",
    "# dataset.shape"
   ]
  },
  {
   "cell_type": "markdown",
   "metadata": {},
   "source": [
    "## Transformando os dados"
   ]
  },
  {
   "cell_type": "code",
   "execution_count": 29,
   "metadata": {},
   "outputs": [],
   "source": [
    "# Transformando as labels em valores numéricos\n",
    "dataset['Class'] = dataset['Class'].astype('category').cat.codes"
   ]
  },
  {
   "cell_type": "markdown",
   "metadata": {},
   "source": [
    "## Separando os dados\n",
    "Seperação dos dados em features (X) e target (y)"
   ]
  },
  {
   "cell_type": "code",
   "execution_count": 30,
   "metadata": {},
   "outputs": [],
   "source": [
    "NUM_OF_COLUMNS = len(dataset.columns)\n",
    "\n",
    "y = dataset.iloc[:,-1] # extrai o target (última coluna)\n",
    "X = dataset.iloc[:,0:NUM_OF_COLUMNS-1] # extrai as features (todas as colunas menos a última)"
   ]
  },
  {
   "cell_type": "markdown",
   "metadata": {},
   "source": [
    "## Normalizando os dados\n",
    "Deixando os valores de todas as colunas entre 0 e 1"
   ]
  },
  {
   "cell_type": "code",
   "execution_count": 31,
   "metadata": {},
   "outputs": [],
   "source": [
    "from sklearn.preprocessing import MinMaxScaler\n",
    "\n",
    "x_values = X.values\n",
    "min_max_scaler = MinMaxScaler()\n",
    "x_scaled = min_max_scaler.fit_transform(x_values)\n",
    "X = pd.DataFrame(x_scaled)"
   ]
  },
  {
   "cell_type": "markdown",
   "metadata": {},
   "source": [
    "## Criando os folds\n",
    "Serão 10 folds para o k-fold cross validation"
   ]
  },
  {
   "cell_type": "code",
   "execution_count": 32,
   "metadata": {},
   "outputs": [],
   "source": [
    "from sklearn.model_selection import StratifiedKFold\n",
    "import numpy as np\n",
    "\n",
    "# Transforma para array NumPy\n",
    "X = np.array(X)\n",
    "y = np.array(y)\n",
    "\n",
    "# Define o número de folds\n",
    "N_FOLDS = 10\n",
    "kf = StratifiedKFold(n_splits=N_FOLDS)\n",
    "\n",
    "# features e target de treino\n",
    "X_train = []\n",
    "y_train = []\n",
    "\n",
    "# features e target de teste\n",
    "X_test = []\n",
    "y_test = []\n",
    "\n",
    "for train_index, test_index in kf.split(X, y):\n",
    "  X_train.append(X[train_index])\n",
    "  X_test.append(X[test_index])\n",
    "\n",
    "  y_train.append(y[train_index])\n",
    "  y_test.append(y[test_index])"
   ]
  },
  {
   "cell_type": "markdown",
   "metadata": {},
   "source": [
    "## Obtendo os scores dos modelos"
   ]
  },
  {
   "cell_type": "code",
   "execution_count": 33,
   "metadata": {},
   "outputs": [],
   "source": [
    "from typing import List, Any\n",
    "from sklearn import metrics\n",
    "\n",
    "def predict_and_get_accuracy(model, X_test: List[Any], y_test: List[Any]) -> float:\n",
    "  y_pred = model.predict(X_test)\n",
    "  accuracy = metrics.accuracy_score(y_test, y_pred)\n",
    "\n",
    "  return accuracy"
   ]
  },
  {
   "cell_type": "markdown",
   "metadata": {},
   "source": [
    "### Árvore de decisão"
   ]
  },
  {
   "cell_type": "code",
   "execution_count": 34,
   "metadata": {},
   "outputs": [
    {
     "name": "stdout",
     "output_type": "stream",
     "text": [
      "Acurácia média da árvore de decisão com ENTROPY: 80%\n",
      "Acurácia média da árvore de decisão com GINI: 74%\n"
     ]
    }
   ],
   "source": [
    "from sklearn.tree import DecisionTreeClassifier\n",
    "\n",
    "gini_tree_results = []\n",
    "entropy_tree_results = []\n",
    "\n",
    "TREE_RANDOM_STATE = 42\n",
    "TREE_MAX_DEPTH = 5\n",
    "\n",
    "# Treinamento e avaliação do modelo com critério entropy\n",
    "for i in range(N_FOLDS):\n",
    "  entropy_tree_model = DecisionTreeClassifier(criterion=\"entropy\", random_state=TREE_RANDOM_STATE,\n",
    "    max_depth=TREE_MAX_DEPTH)\n",
    "  entropy_tree_model = entropy_tree_model.fit(X_train[i], y_train[i])\n",
    "\n",
    "  entropy_tree_results.append(predict_and_get_accuracy(entropy_tree_model, X_test[i], y_test[i]))\n",
    "\n",
    "print(f\"Acurácia média da árvore de decisão com ENTROPY: { \\\n",
    "  round(np.mean(entropy_tree_results)*100)}%\")\n",
    "\n",
    "# Treinamento e avaliação do modelo com critério gini\n",
    "for i in range(N_FOLDS):\n",
    "  gini_tree_model = DecisionTreeClassifier(criterion=\"gini\", random_state=TREE_RANDOM_STATE,\n",
    "    max_depth=TREE_MAX_DEPTH)\n",
    "  gini_tree_model = gini_tree_model.fit(X_train[i], y_train[i])\n",
    "\n",
    "  gini_tree_results.append(predict_and_get_accuracy(gini_tree_model, X_test[i], y_test[i]))\n",
    "\n",
    "print(f\"Acurácia média da árvore de decisão com GINI: { \\\n",
    "  round(np.mean(gini_tree_results)*100)}%\")"
   ]
  },
  {
   "cell_type": "markdown",
   "metadata": {},
   "source": [
    "### K-Nearest Neighbors (KNN)"
   ]
  },
  {
   "cell_type": "code",
   "execution_count": 35,
   "metadata": {},
   "outputs": [
    {
     "name": "stdout",
     "output_type": "stream",
     "text": [
      "Acurácia média do KNN com 5 vizinhos: 88%\n",
      "Acurácia média do KNN com 10 vizinhos: 88%\n"
     ]
    }
   ],
   "source": [
    "from sklearn.neighbors import KNeighborsClassifier\n",
    "\n",
    "five_neighbors_results = []\n",
    "ten_neighbors_results = []\n",
    "\n",
    "# Treinamento e avaliação do modelo com 5 vizinhos\n",
    "for i in range(N_FOLDS):\n",
    "  five_neighbors_model = KNeighborsClassifier(n_neighbors=5, metric=\"euclidean\")\n",
    "  five_neighbors_model = five_neighbors_model.fit(X_train[i], y_train[i])\n",
    "\n",
    "  five_neighbors_results.append(predict_and_get_accuracy(five_neighbors_model, X_test[i], y_test[i]))\n",
    "\n",
    "print(f\"Acurácia média do KNN com 5 vizinhos: { \\\n",
    "  round(np.mean(five_neighbors_results)*100)}%\")\n",
    "\n",
    "# Treinamento e avaliação do modelo com 10 vizinhos\n",
    "for i in range(N_FOLDS):\n",
    "  ten_neighbors_model = KNeighborsClassifier(n_neighbors=10, metric=\"euclidean\")\n",
    "  ten_neighbors_model = ten_neighbors_model.fit(X_train[i], y_train[i])\n",
    "\n",
    "  ten_neighbors_results.append(predict_and_get_accuracy(ten_neighbors_model, X_test[i], y_test[i]))\n",
    "\n",
    "print(f\"Acurácia média do KNN com 10 vizinhos: { \\\n",
    "  round(np.mean(ten_neighbors_results)*100)}%\")"
   ]
  },
  {
   "cell_type": "markdown",
   "metadata": {},
   "source": [
    "### Multilayer Perceptron (MLP)"
   ]
  },
  {
   "cell_type": "code",
   "execution_count": 36,
   "metadata": {},
   "outputs": [
    {
     "name": "stdout",
     "output_type": "stream",
     "text": [
      "Acurácia média da MLP com arquitetura (10, 2) e função de ativação RELU: 88%\n",
      "Acurácia média da MLP com arquitetura (3, 2) e função de ativação RELU: 89%\n"
     ]
    }
   ],
   "source": [
    "from sklearn.neural_network import MLPClassifier\n",
    "\n",
    "mlp_first_architecture_results = {\n",
    "    \"tanh\": [],\n",
    "    \"relu\": [],\n",
    "}\n",
    "\n",
    "mlp_second_architecture_results = {\n",
    "    \"tanh\": [],\n",
    "    \"relu\": [],\n",
    "}\n",
    "\n",
    "# Treinamento e avaliação do modelo com função de ativação RELU (arquitetura 15, 2)\n",
    "for i in range(N_FOLDS):\n",
    "  mlp_first_architecture_model = MLPClassifier(hidden_layer_sizes=(10, 2,), random_state=42,\n",
    "    max_iter=1000)\n",
    "  mlp_first_architecture_model = mlp_first_architecture_model.fit(X_train[i], y_train[i])\n",
    "\n",
    "  mlp_first_architecture_results[\"relu\"].append(\n",
    "    predict_and_get_accuracy(mlp_first_architecture_model, X_test[i], y_test[i]))\n",
    "  \n",
    "print(f\"Acurácia média da MLP com arquitetura (10, 2) e função de ativação RELU: { \\\n",
    "  round(np.mean(mlp_first_architecture_results['relu'])*100)}%\")\n",
    "\n",
    "# Treinamento e avaliação do modelo com função de ativação RELU (arquitetura 3,)\n",
    "for i in range(N_FOLDS):\n",
    "  mlp_second_architecture_model = MLPClassifier(hidden_layer_sizes=(50,), random_state=42,\n",
    "    max_iter=1000)\n",
    "  mlp_second_architecture_model = mlp_second_architecture_model.fit(X_train[i], y_train[i])\n",
    "\n",
    "  mlp_second_architecture_results[\"relu\"].append(\n",
    "    predict_and_get_accuracy(mlp_second_architecture_model, X_test[i], y_test[i]))\n",
    "\n",
    "print(f\"Acurácia média da MLP com arquitetura (3, 2) e função de ativação RELU: { \\\n",
    "  round(np.mean(mlp_second_architecture_results[\"relu\"])*100)}%\")"
   ]
  }
 ],
 "metadata": {
  "kernelspec": {
   "display_name": ".venv",
   "language": "python",
   "name": "python3"
  },
  "language_info": {
   "codemirror_mode": {
    "name": "ipython",
    "version": 3
   },
   "file_extension": ".py",
   "mimetype": "text/x-python",
   "name": "python",
   "nbconvert_exporter": "python",
   "pygments_lexer": "ipython3",
   "version": "3.12.8"
  }
 },
 "nbformat": 4,
 "nbformat_minor": 2
}
